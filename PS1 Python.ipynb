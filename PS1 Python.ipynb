{
 "cells": [
  {
   "cell_type": "markdown",
   "id": "ae9c32b3",
   "metadata": {},
   "source": [
    "# Q6"
   ]
  },
  {
   "cell_type": "code",
   "execution_count": 1,
   "id": "c6493a76",
   "metadata": {},
   "outputs": [],
   "source": [
    "def pig(word):\n",
    "    vowels=[\"a\",\"e\",\"i\",\"o\",\"u\"]\n",
    "    word=word.lower()\n",
    "    \n",
    "    if word[0] not in vowels:\n",
    "        word=word+word[0]+\"ay\"\n",
    "        word=word[1:]\n",
    "    else:\n",
    "        word=word+\"way\"\n",
    "    return word"
   ]
  },
  {
   "cell_type": "code",
   "execution_count": 2,
   "id": "7088b861",
   "metadata": {},
   "outputs": [
    {
     "data": {
      "text/plain": [
       "'appyhay'"
      ]
     },
     "execution_count": 2,
     "metadata": {},
     "output_type": "execute_result"
    }
   ],
   "source": [
    "pig('happy')"
   ]
  },
  {
   "cell_type": "code",
   "execution_count": 3,
   "id": "3a94426e",
   "metadata": {},
   "outputs": [
    {
     "data": {
      "text/plain": [
       "'enterway'"
      ]
     },
     "execution_count": 3,
     "metadata": {},
     "output_type": "execute_result"
    }
   ],
   "source": [
    "pig('Enter')"
   ]
  },
  {
   "cell_type": "markdown",
   "id": "c3299e66",
   "metadata": {},
   "source": [
    "# Q7"
   ]
  },
  {
   "cell_type": "code",
   "execution_count": 12,
   "id": "98fce3f2",
   "metadata": {},
   "outputs": [],
   "source": [
    "def bldcount():\n",
    "    #loading file\n",
    "    file=open (\"bloodtype1.txt\")\n",
    "    #read each line of the file and create a list\n",
    "    blood=file.read()\n",
    "    bloodtypes=[\"A\", \"B\", \"AB\", \"O\", \"OO\"]\n",
    "    words = blood.split()\n",
    "    #now printing result\n",
    "    for bloodtype in bloodtypes:\n",
    "        count = words.count(bloodtype)\n",
    "        if count == 0:\n",
    "            print('No patients of blood type {}.'.format(bloodtype))\n",
    "        elif count == 1:\n",
    "            print ('One patient of blood type {}.'.format(bloodtype))\n",
    "        else:\n",
    "            print ('{} patients of blood type {}.'.format(str(count),bloodtype))\n",
    "    "
   ]
  },
  {
   "cell_type": "code",
   "execution_count": 13,
   "id": "09eba3ee",
   "metadata": {},
   "outputs": [
    {
     "name": "stdout",
     "output_type": "stream",
     "text": [
      "15 patients of blood type A.\n",
      "One patient of blood type B.\n",
      "13 patients of blood type AB.\n",
      "15 patients of blood type O.\n",
      "No patients of blood type OO.\n"
     ]
    }
   ],
   "source": [
    "bldcount()"
   ]
  },
  {
   "cell_type": "markdown",
   "id": "15521d0c",
   "metadata": {},
   "source": [
    "# Q8"
   ]
  },
  {
   "cell_type": "code",
   "execution_count": 14,
   "id": "ec29f8da",
   "metadata": {},
   "outputs": [],
   "source": [
    "def curconv(currency,value):\n",
    "    #load file\n",
    "    file=open(\"currencies.txt\")\n",
    "    #reading and create list\n",
    "    exchange=file.readlines()\n",
    "    exchange_list=[]\n",
    "    #string to tuple\n",
    "    for exchange_string in exchange:\n",
    "        exchange_tuple=tuple(map(str,exchange_string.split()))\n",
    "        exchange_list.append(exchange_tuple)\n",
    "    for i, exchange_rate in enumerate(exchange_list):\n",
    "        if currency==exchange_rate[0]:\n",
    "            usdollar=float(exchange_list[i][1])*value\n",
    "            break\n",
    "    file.close()\n",
    "    return usdollar"
   ]
  },
  {
   "cell_type": "code",
   "execution_count": 15,
   "id": "f7d5932f",
   "metadata": {},
   "outputs": [
    {
     "data": {
      "text/plain": [
       "122.96544"
      ]
     },
     "execution_count": 15,
     "metadata": {},
     "output_type": "execute_result"
    }
   ],
   "source": [
    "curconv('EUR', 100)"
   ]
  },
  {
   "cell_type": "code",
   "execution_count": 16,
   "id": "8fb622d0",
   "metadata": {},
   "outputs": [
    {
     "data": {
      "text/plain": [
       "1.241401"
      ]
     },
     "execution_count": 16,
     "metadata": {},
     "output_type": "execute_result"
    }
   ],
   "source": [
    "curconv('JPY',100)"
   ]
  },
  {
   "cell_type": "markdown",
   "id": "427dc1c9",
   "metadata": {},
   "source": [
    "# Q9\n",
    "\n",
    "1. TypeError\n",
    "2. IndexError\n",
    "3. ValueError\n",
    "4. NameError\n",
    "5. IOError"
   ]
  },
  {
   "cell_type": "markdown",
   "id": "c745c996",
   "metadata": {},
   "source": [
    "# Q10"
   ]
  },
  {
   "cell_type": "code",
   "execution_count": 17,
   "id": "b69df1b1",
   "metadata": {},
   "outputs": [],
   "source": [
    "def frequencies(text):\n",
    "    code='abcdefghijklmnopqrstuvwxyz'\n",
    "    #converting to lower case\n",
    "    text=text.lower()\n",
    "    #checking frequencies\n",
    "    frequency=[]\n",
    "    for letter in code:\n",
    "        if letter in text:\n",
    "            frequency.append(text.count(letter))\n",
    "        else:\n",
    "            frequency.append(0)\n",
    "    return frequency"
   ]
  },
  {
   "cell_type": "code",
   "execution_count": 18,
   "id": "0b12803b",
   "metadata": {},
   "outputs": [
    {
     "data": {
      "text/plain": [
       "[1, 1, 1, 3, 5, 1, 1, 2, 1, 0, 1, 0, 1, 2, 4, 0, 1, 2, 0, 3, 1, 0, 1, 1, 0, 0]"
      ]
     },
     "execution_count": 18,
     "metadata": {},
     "output_type": "execute_result"
    }
   ],
   "source": [
    "frequencies('The quick red fox got bored and went home.')"
   ]
  },
  {
   "cell_type": "code",
   "execution_count": 19,
   "id": "2559be40",
   "metadata": {},
   "outputs": [
    {
     "data": {
      "text/plain": [
       "[1, 0, 0, 0, 1, 0, 0, 0, 0, 0, 0, 1, 0, 0, 0, 2, 0, 0, 0, 0, 0, 0, 0, 0, 0, 0]"
      ]
     },
     "execution_count": 19,
     "metadata": {},
     "output_type": "execute_result"
    }
   ],
   "source": [
    "frequencies('apple')"
   ]
  },
  {
   "cell_type": "code",
   "execution_count": null,
   "id": "d1e4d8bc",
   "metadata": {},
   "outputs": [],
   "source": []
  }
 ],
 "metadata": {
  "kernelspec": {
   "display_name": "Python 3",
   "language": "python",
   "name": "python3"
  },
  "language_info": {
   "codemirror_mode": {
    "name": "ipython",
    "version": 3
   },
   "file_extension": ".py",
   "mimetype": "text/x-python",
   "name": "python",
   "nbconvert_exporter": "python",
   "pygments_lexer": "ipython3",
   "version": "3.8.8"
  }
 },
 "nbformat": 4,
 "nbformat_minor": 5
}
