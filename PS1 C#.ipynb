{
 "cells": [
  {
   "cell_type": "markdown",
   "id": "23fec2aa",
   "metadata": {},
   "source": [
    "# PROBLEM SET 1 200466062"
   ]
  },
  {
   "cell_type": "markdown",
   "id": "81b9013d",
   "metadata": {},
   "source": [
    "# Q1\n",
    "\n",
    "1. 5-int\n",
    "2. 5.0 - double\n",
    "3. 5>1 - boolean\n",
    "4. '5' - char\n",
    "5. 5*2 - int\n",
    "6. '5'*2 - int\n",
    "7. '5'+ '2' - int\n",
    "8. 5/2 - int\n",
    "9. 5%2 - int\n",
    "10. {5,2,1} - string\n",
    "11. 5==3 - boolean\n",
    "12. Pi- double\n"
   ]
  },
  {
   "cell_type": "markdown",
   "id": "d61ec63e",
   "metadata": {},
   "source": [
    "# Q2"
   ]
  },
  {
   "cell_type": "code",
   "execution_count": 2,
   "id": "b195b3c2",
   "metadata": {},
   "outputs": [
    {
     "name": "stdout",
     "output_type": "stream",
     "text": [
      "34\r\n"
     ]
    }
   ],
   "source": [
    "string str1 = \"Supercalifragilisticexpialidocious\";\n",
    "Console.WriteLine(str1.Length);"
   ]
  },
  {
   "cell_type": "code",
   "execution_count": 3,
   "id": "9b622cf9",
   "metadata": {},
   "outputs": [
    {
     "name": "stdout",
     "output_type": "stream",
     "text": [
      "True\r\n"
     ]
    }
   ],
   "source": [
    "string str2 = \"Supercalifragilisticexpialidocious\";\n",
    "string substring = \"ice\";\n",
    "Console.WriteLine(str2.Contains(substring));"
   ]
  },
  {
   "cell_type": "code",
   "execution_count": 4,
   "id": "678e0fff",
   "metadata": {},
   "outputs": [
    {
     "name": "stdout",
     "output_type": "stream",
     "text": [
      "Supercalifragilisticexpialidocious\r\n"
     ]
    }
   ],
   "source": [
    "string line = \"Supercalifragilisticexpialidocious Honorificabilitudinitatibus Bababadalgharaghtakamminarronnkonn\";\n",
    "string[] words = line.Split(new[] { \" \" }, StringSplitOptions.None);\n",
    "string longest = \"\";\n",
    "int ctr = 0;\n",
    "foreach (String s in words)\n",
    "        {\n",
    "            if (s.Length > ctr)\n",
    "            {\n",
    "                longest = s;\n",
    "                ctr = s.Length;\n",
    "            }\n",
    "        }\n",
    "\n",
    "Console.WriteLine(longest);"
   ]
  },
  {
   "cell_type": "code",
   "execution_count": 5,
   "id": "7cfb5226",
   "metadata": {},
   "outputs": [
    {
     "name": "stdout",
     "output_type": "stream",
     "text": [
      "First word is Bartok\n",
      "Last Word is Buxtehude\n"
     ]
    }
   ],
   "source": [
    "List<string> names = new List<string>();\n",
    "            names.Add(\"Berlioz\");\n",
    "            names.Add(\"Borodin\");\n",
    "            names.Add(\"Brian\");\n",
    "            names.Add(\"Bartok\");\n",
    "            names.Add(\"Bellini\");\n",
    "            names.Add(\"Buxtehude\");\n",
    "            names.Add(\"Bernstein\");\n",
    "\n",
    "            names.Sort();\n",
    "            var first = names[0];\n",
    "            var last = names[names.Count -1];\n",
    "\n",
    "            Console.WriteLine(\"First word is \" + first) ;\n",
    "            Console.WriteLine(\"Last Word is \" + last);\n",
    "            Console.ReadLine();\n"
   ]
  },
  {
   "cell_type": "markdown",
   "id": "727a2659",
   "metadata": {},
   "source": [
    "# Q3"
   ]
  },
  {
   "cell_type": "code",
   "execution_count": 6,
   "id": "b58d2765",
   "metadata": {},
   "outputs": [],
   "source": [
    "private static float triangleArea(float s1,float s2,float s3)\n",
    "    {\n",
    "      float s = (s1 + s2 + s3)/2;\n",
    "      float area = System.MathF.Sqrt(s*(s - s1)*(s -s2)*(s -s3));\n",
    "      return area;\n",
    "    }"
   ]
  },
  {
   "cell_type": "code",
   "execution_count": 7,
   "id": "08b167f1",
   "metadata": {},
   "outputs": [
    {
     "data": {
      "text/plain": [
       "1.7320508"
      ]
     },
     "execution_count": 7,
     "metadata": {},
     "output_type": "execute_result"
    }
   ],
   "source": [
    "triangleArea(2,2,2)"
   ]
  },
  {
   "cell_type": "markdown",
   "id": "af2d65b4",
   "metadata": {},
   "source": [
    "# Q4"
   ]
  },
  {
   "cell_type": "code",
   "execution_count": 9,
   "id": "65bf0f1d",
   "metadata": {},
   "outputs": [],
   "source": [
    "public static int[][] Numbers(int[] lst)\n",
    "    {\n",
    "        List<int> even = new List<int>();\n",
    "        List<int> odd = new List<int>();\n",
    "        foreach (int num in lst)\n",
    "        {\n",
    "            if(num % 2 == 0)\n",
    "                even.Add(num);\n",
    "            else\n",
    "                odd.Add(num);\n",
    "        }\n",
    "        int[][] result = new int[2][];\n",
    "        result[0] = even.ToArray();\n",
    "        result[1] = odd.ToArray();\n",
    "        return result;\n",
    "    }\n",
    "    "
   ]
  },
  {
   "cell_type": "code",
   "execution_count": 10,
   "id": "48cfe2fe",
   "metadata": {},
   "outputs": [
    {
     "name": "stdout",
     "output_type": "stream",
     "text": [
      "\n",
      "Even Numbers\n",
      "42 56 32 \n",
      "Odd Numbers\n",
      "25 47 "
     ]
    }
   ],
   "source": [
    "int[] arr=new int[] {25, 47, 42, 56, 32};\n",
    "int[][] result=Numbers(arr);\n",
    "Console.WriteLine(\"\\nEven Numbers\");\n",
    "foreach (int num in result[0])\n",
    "    Console.Write(num+\" \");\n",
    "Console.WriteLine(\"\\nOdd Numbers\");\n",
    "foreach (int num in result[1])\n",
    "    Console.Write(num+\" \");"
   ]
  },
  {
   "cell_type": "markdown",
   "id": "8860a386",
   "metadata": {},
   "source": [
    "# Q5"
   ]
  },
  {
   "cell_type": "code",
   "execution_count": 11,
   "id": "f3cd8ab5",
   "metadata": {},
   "outputs": [],
   "source": [
    "public static bool inside(double x, double y, double x1, double y1, double x2, double y2)\n",
    "    {\n",
    "        if(x>x1 && y>y1 && x<x2 && y<y2)\n",
    "            return true;\n",
    "        else\n",
    "            return false;\n",
    "    }"
   ]
  },
  {
   "cell_type": "code",
   "execution_count": 12,
   "id": "95ad0288",
   "metadata": {},
   "outputs": [
    {
     "name": "stdout",
     "output_type": "stream",
     "text": [
      "True\r\n"
     ]
    }
   ],
   "source": [
    "bool result=inside(1,1,0,0,2,3);\n",
    "Console.WriteLine(result);"
   ]
  },
  {
   "cell_type": "code",
   "execution_count": 13,
   "id": "a6aa7765",
   "metadata": {},
   "outputs": [
    {
     "name": "stdout",
     "output_type": "stream",
     "text": [
      "False\r\n"
     ]
    }
   ],
   "source": [
    "bool result=inside(-1,-1,0,0,2,3);\n",
    "Console.WriteLine(result);"
   ]
  },
  {
   "cell_type": "code",
   "execution_count": 14,
   "id": "1051dc17",
   "metadata": {},
   "outputs": [
    {
     "name": "stdout",
     "output_type": "stream",
     "text": [
      "False\r\n"
     ]
    }
   ],
   "source": [
    "Console.WriteLine(inside(1,1,0.3,0.5,1.1,0.7) && inside(1,1,0.5,0.2,1.1,2));"
   ]
  },
  {
   "cell_type": "code",
   "execution_count": null,
   "id": "bbe76dc2",
   "metadata": {},
   "outputs": [],
   "source": []
  }
 ],
 "metadata": {
  "kernelspec": {
   "display_name": ".NET (C#)",
   "language": "C#",
   "name": ".net-csharp"
  },
  "language_info": {
   "file_extension": ".cs",
   "mimetype": "text/x-csharp",
   "name": "C#",
   "pygments_lexer": "csharp",
   "version": "8.0"
  }
 },
 "nbformat": 4,
 "nbformat_minor": 5
}
